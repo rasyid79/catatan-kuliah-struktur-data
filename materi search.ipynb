{
 "cells": [
  {
   "cell_type": "code",
   "execution_count": 1,
   "metadata": {},
   "outputs": [
    {
     "name": "stdout",
     "output_type": "stream",
     "text": [
      "Masukan berapa panjang list yang ingin dibuat = 12\n",
      "Masukan angka ke 1 untuk list = 1\n",
      "Masukan angka ke 2 untuk list = 3\n",
      "Masukan angka ke 3 untuk list = 4\n",
      "Masukan angka ke 4 untuk list = 6\n",
      "Masukan angka ke 5 untuk list = 4\n",
      "Masukan angka ke 6 untuk list = 2\n",
      "Masukan angka ke 7 untuk list = 33\n",
      "Masukan angka ke 8 untuk list = 4\n",
      "Masukan angka ke 9 untuk list = 6\n",
      "Masukan angka ke 10 untuk list = 3\n",
      "Masukan angka ke 11 untuk list = 2\n",
      "Masukan angka ke 12 untuk list = 46\n",
      "Masukan angka yang dicari = 5\n",
      "Angka ketemu di index = 12\n"
     ]
    }
   ],
   "source": [
    "#linear search\n",
    "def linierSearch(lists,dicari):\n",
    "  posisi = 0\n",
    "  ketemu = False\n",
    "  while posisi<len(lists) and not ketemu:\n",
    "    if dicari == lists[posisi]:\n",
    "      ketemu = True\n",
    "    posisi+=1\n",
    "  print('Angka ketemu di index = %i'%posisi)\n",
    "\n",
    "lists = []\n",
    "a = int(input('Masukan berapa panjang list yang ingin dibuat = '))\n",
    "for i in range(a):\n",
    "  x = int(input('Masukan angka ke %i untuk list = '%(i+1)))\n",
    "  lists.append(x)\n",
    "dicari = int(input('Masukan angka yang dicari = '))\n",
    "linierSearch(lists,dicari)"
   ]
  },
  {
   "cell_type": "code",
   "execution_count": 2,
   "metadata": {},
   "outputs": [
    {
     "name": "stdout",
     "output_type": "stream",
     "text": [
      "Angka ditemukan!\n",
      "posisi angka yang ditemukan adalah 4\n",
      "Langkah yang sudah di ambil dalam menemukan adalah 4 langkah\n"
     ]
    }
   ],
   "source": [
    "#binary search\n",
    "def binary_search(angka,listku):\n",
    "  listku.sort() #Penyortiran List\n",
    "  langkah = 0\n",
    "  ketemu = False\n",
    "  awal = 0\n",
    "  akhir = len(listku)-1\n",
    "  while awal <= akhir and not ketemu:\n",
    "    tengah = (awal+akhir)//2\n",
    "    if listku[tengah] == angka:\n",
    "      ketemu = True\n",
    "    elif angka > tengah:\n",
    "      awal = tengah+1\n",
    "    else:\n",
    "      akhir = tengah-1\n",
    "    langkah+=1\n",
    "  if ketemu:\n",
    "    print (\"Angka ditemukan!\")\n",
    "    print (\"posisi angka yang ditemukan adalah %s\" % str(awal+1))\n",
    "  else:\n",
    "    print (\"Angka yang anda maksudkan tidak ditemukan!\")\n",
    "  print (\"Langkah yang sudah di ambil dalam menemukan adalah %s langkah\" % langkah)\n",
    "\n",
    "binary_search(3,[1,1,2,6,7,8,9,3,4])"
   ]
  },
  {
   "cell_type": "code",
   "execution_count": null,
   "metadata": {},
   "outputs": [],
   "source": [
    " "
   ]
  }
 ],
 "metadata": {
  "kernelspec": {
   "display_name": "Python 3",
   "language": "python",
   "name": "python3"
  },
  "language_info": {
   "codemirror_mode": {
    "name": "ipython",
    "version": 3
   },
   "file_extension": ".py",
   "mimetype": "text/x-python",
   "name": "python",
   "nbconvert_exporter": "python",
   "pygments_lexer": "ipython3",
   "version": "3.7.1"
  }
 },
 "nbformat": 4,
 "nbformat_minor": 2
}
